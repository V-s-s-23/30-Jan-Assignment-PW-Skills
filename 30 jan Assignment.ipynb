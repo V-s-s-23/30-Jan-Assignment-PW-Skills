{
 "cells": [
  {
   "cell_type": "markdown",
   "id": "8c42cdd9",
   "metadata": {},
   "source": [
    "# Q1. Write a program to accept percentage from the user and display the grade according to the following criteria:"
   ]
  },
  {
   "cell_type": "code",
   "execution_count": null,
   "id": "3fa19360",
   "metadata": {},
   "outputs": [],
   "source": [
    "percentage = int(input('Enter your percentage'))\n",
    "\n",
    "if percentage>90:\n",
    "    print('You are in grade A')\n",
    "elif (percentage>80 and percentage<=90):\n",
    "    print('You are in grade B')\n",
    "elif (percentage>=60 and percentage<=80):\n",
    "    print('your are in grade c')\n",
    "else:\n",
    "    print('you are in grade D')"
   ]
  },
  {
   "cell_type": "code",
   "execution_count": null,
   "id": "1a4b08eb",
   "metadata": {},
   "outputs": [],
   "source": []
  },
  {
   "cell_type": "markdown",
   "id": "f425ca7f",
   "metadata": {},
   "source": [
    "# Q2.Write a program to accept the cost price of a bike and display the tax to be paid according to the  criteria:\n",
    "# Tax  --  Cost Price(in Rs)\n",
    "# 15%  > 100000\n",
    "# 10% >50000 and <=100000\n",
    "# 5%   <= 50000\n"
   ]
  },
  {
   "cell_type": "code",
   "execution_count": null,
   "id": "5db30ea9",
   "metadata": {},
   "outputs": [],
   "source": [
    "tax = int(input('Enter the cost price of bike'))\n",
    "if tax> 100000:\n",
    "    print('You have to pay 15% Tax')\n",
    "elif (tax>50000 and tax<=100000):\n",
    "    print('You have to pay 10% Tax')\n",
    "elif (tax<=50000):\n",
    "    print('You have to pay 5% Tax')"
   ]
  },
  {
   "cell_type": "code",
   "execution_count": null,
   "id": "6d80f14c",
   "metadata": {},
   "outputs": [],
   "source": []
  },
  {
   "cell_type": "markdown",
   "id": "55434b7b",
   "metadata": {},
   "source": [
    "# Q3. Accept any city from the user and display mounuments of that city.\n",
    "# City =>\tMonument\n",
    "# Delhi=>\tRed Fort\n",
    "# Agra=>\tTaj Mahal\n",
    "# Jaipur=>\tJal Mahal"
   ]
  },
  {
   "cell_type": "code",
   "execution_count": null,
   "id": "408d1aa3",
   "metadata": {},
   "outputs": [],
   "source": [
    "city = input('Enter city name')\n",
    "if city == 'Delhi':\n",
    "    print('Red Fort')\n",
    "    \n",
    "elif city == 'Agra':\n",
    "    print('Taj Mahal')\n",
    "\n",
    "elif city == 'Jaipur':\n",
    "    print('Jal Mahal')"
   ]
  },
  {
   "cell_type": "code",
   "execution_count": null,
   "id": "88651cb7",
   "metadata": {},
   "outputs": [],
   "source": []
  },
  {
   "cell_type": "markdown",
   "id": "bd51328d",
   "metadata": {},
   "source": [
    "# Q4.Check how many times a given number can be divided by 3 before it is less than or equal to 10."
   ]
  },
  {
   "cell_type": "code",
   "execution_count": null,
   "id": "32c5446a",
   "metadata": {},
   "outputs": [],
   "source": [
    "num = int(input('Enter your number'))\n",
    "count = 0\n",
    "while num > 10:\n",
    "    num = num / 3\n",
    "    count = count + 1\n",
    "print(count)"
   ]
  },
  {
   "cell_type": "code",
   "execution_count": null,
   "id": "b372da76",
   "metadata": {},
   "outputs": [],
   "source": []
  },
  {
   "cell_type": "markdown",
   "id": "f023e17e",
   "metadata": {},
   "source": [
    "# Q5.why and when to use while loop in python give a detailed description with example."
   ]
  },
  {
   "cell_type": "markdown",
   "id": "62dc24d5",
   "metadata": {},
   "source": [
    "# Answer:- A while loop in Python is used when you want to repeat a block of code as long as a certain condition is met. The condition is evaluated before each iteration of the loop, and if it is true, the loop continues to execute. Once the condition becomes false, the loop terminates and the program continues with the next statement after the loop."
   ]
  },
  {
   "cell_type": "code",
   "execution_count": null,
   "id": "9fe8cc7b",
   "metadata": {},
   "outputs": [],
   "source": [
    "counter = 1\n",
    "while counter <=10:\n",
    "    print(counter)\n",
    "    counter = counter+1"
   ]
  },
  {
   "cell_type": "code",
   "execution_count": null,
   "id": "956edfc3",
   "metadata": {},
   "outputs": [],
   "source": []
  },
  {
   "cell_type": "markdown",
   "id": "86165f1a",
   "metadata": {},
   "source": [
    "# Q6. Print 3 different pattern using nested while loop."
   ]
  },
  {
   "cell_type": "code",
   "execution_count": 1,
   "id": "23881b41",
   "metadata": {},
   "outputs": [
    {
     "name": "stdout",
     "output_type": "stream",
     "text": [
      "*\n",
      "**\n",
      "***\n",
      "****\n",
      "*****\n",
      "******\n",
      "*******\n",
      "********\n",
      "*********\n",
      "**********\n"
     ]
    }
   ],
   "source": [
    "#1.\n",
    "i  =1 \n",
    "while i<=10:\n",
    "    j=1\n",
    "    while j<=i:\n",
    "        print('*',end = '')\n",
    "        j = j+1\n",
    "    print()\n",
    "    i = i+1"
   ]
  },
  {
   "cell_type": "code",
   "execution_count": 2,
   "id": "faef7c29",
   "metadata": {},
   "outputs": [
    {
     "name": "stdout",
     "output_type": "stream",
     "text": [
      "* * * * * * * * * * \n",
      "* * * * * * * * * \n",
      "* * * * * * * * \n",
      "* * * * * * * \n",
      "* * * * * * \n",
      "* * * * * \n",
      "* * * * \n",
      "* * * \n",
      "* * \n",
      "* \n"
     ]
    }
   ],
   "source": [
    "#2\n",
    "n = 10\n",
    "\n",
    "i = 1\n",
    "while i <= n :\n",
    "    j = n\n",
    "    while j >= i:\n",
    "        print(\"*\", end = \" \")\n",
    "        j -= 1\n",
    "    print()\n",
    "    i += 1"
   ]
  },
  {
   "cell_type": "code",
   "execution_count": 4,
   "id": "ec65167f",
   "metadata": {},
   "outputs": [
    {
     "name": "stdout",
     "output_type": "stream",
     "text": [
      "         *\n",
      "        **\n",
      "       ***\n",
      "      ****\n",
      "     *****\n",
      "    ******\n",
      "   *******\n",
      "  ********\n",
      " *********\n",
      "**********\n"
     ]
    }
   ],
   "source": [
    "#3 \n",
    "i = 1\n",
    "while i<=10: # ------> count number of rows\n",
    "    b=1\n",
    "    while b<= 10- i:# -------> print blank spaces\n",
    "        print(' ',end ='')\n",
    "        b= b+1\n",
    "    \n",
    "    j = 1\n",
    "    while j<=i:# -----> print *\n",
    "        print('*',end='')\n",
    "        j = j+1\n",
    "    print()\n",
    "    i=i+1"
   ]
  },
  {
   "cell_type": "code",
   "execution_count": null,
   "id": "603e1134",
   "metadata": {},
   "outputs": [],
   "source": []
  },
  {
   "cell_type": "markdown",
   "id": "79fe15eb",
   "metadata": {},
   "source": [
    "# Q7&8. Reverse a while loop to display numbers from 10 to 11"
   ]
  },
  {
   "cell_type": "code",
   "execution_count": null,
   "id": "c4d8f6bd",
   "metadata": {},
   "outputs": [],
   "source": [
    "counter = 10\n",
    "while counter>=1:\n",
    "    print(counter)\n",
    "    counter = counter-1"
   ]
  }
 ],
 "metadata": {
  "kernelspec": {
   "display_name": "Python 3 (ipykernel)",
   "language": "python",
   "name": "python3"
  },
  "language_info": {
   "codemirror_mode": {
    "name": "ipython",
    "version": 3
   },
   "file_extension": ".py",
   "mimetype": "text/x-python",
   "name": "python",
   "nbconvert_exporter": "python",
   "pygments_lexer": "ipython3",
   "version": "3.9.12"
  }
 },
 "nbformat": 4,
 "nbformat_minor": 5
}
